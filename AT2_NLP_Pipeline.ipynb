{
  "cells": [
    {
      "cell_type": "markdown",
      "metadata": {
        "id": "view-in-github",
        "colab_type": "text"
      },
      "source": [
        "<a href=\"https://colab.research.google.com/github/ppiiesle3y1/TLDR/blob/main/AT2_NLP_Pipeline.ipynb\" target=\"_parent\"><img src=\"https://colab.research.google.com/assets/colab-badge.svg\" alt=\"Open In Colab\"/></a>"
      ]
    },
    {
      "cell_type": "code",
      "execution_count": null,
      "metadata": {
        "colab": {
          "base_uri": "https://localhost:8080/"
        },
        "id": "xTuxFSrxNMlm",
        "outputId": "0f9e758d-0307-4502-ecb7-e34704908f3d"
      },
      "outputs": [
        {
          "name": "stdout",
          "output_type": "stream",
          "text": [
            "Looking in indexes: https://pypi.org/simple, https://us-python.pkg.dev/colab-wheels/public/simple/\n",
            "Requirement already satisfied: datasets in /usr/local/lib/python3.9/dist-packages (2.11.0)\n",
            "Requirement already satisfied: pyarrow>=8.0.0 in /usr/local/lib/python3.9/dist-packages (from datasets) (9.0.0)\n",
            "Requirement already satisfied: tqdm>=4.62.1 in /usr/local/lib/python3.9/dist-packages (from datasets) (4.65.0)\n",
            "Requirement already satisfied: dill<0.3.7,>=0.3.0 in /usr/local/lib/python3.9/dist-packages (from datasets) (0.3.6)\n",
            "Requirement already satisfied: huggingface-hub<1.0.0,>=0.11.0 in /usr/local/lib/python3.9/dist-packages (from datasets) (0.13.4)\n",
            "Requirement already satisfied: packaging in /usr/local/lib/python3.9/dist-packages (from datasets) (23.0)\n",
            "Requirement already satisfied: multiprocess in /usr/local/lib/python3.9/dist-packages (from datasets) (0.70.14)\n",
            "Requirement already satisfied: pyyaml>=5.1 in /usr/local/lib/python3.9/dist-packages (from datasets) (6.0)\n",
            "Requirement already satisfied: responses<0.19 in /usr/local/lib/python3.9/dist-packages (from datasets) (0.18.0)\n",
            "Requirement already satisfied: requests>=2.19.0 in /usr/local/lib/python3.9/dist-packages (from datasets) (2.27.1)\n",
            "Requirement already satisfied: numpy>=1.17 in /usr/local/lib/python3.9/dist-packages (from datasets) (1.22.4)\n",
            "Requirement already satisfied: xxhash in /usr/local/lib/python3.9/dist-packages (from datasets) (3.2.0)\n",
            "Requirement already satisfied: fsspec[http]>=2021.11.1 in /usr/local/lib/python3.9/dist-packages (from datasets) (2023.4.0)\n",
            "Requirement already satisfied: pandas in /usr/local/lib/python3.9/dist-packages (from datasets) (1.5.3)\n",
            "Requirement already satisfied: aiohttp in /usr/local/lib/python3.9/dist-packages (from datasets) (3.8.4)\n",
            "Requirement already satisfied: yarl<2.0,>=1.0 in /usr/local/lib/python3.9/dist-packages (from aiohttp->datasets) (1.8.2)\n",
            "Requirement already satisfied: frozenlist>=1.1.1 in /usr/local/lib/python3.9/dist-packages (from aiohttp->datasets) (1.3.3)\n",
            "Requirement already satisfied: aiosignal>=1.1.2 in /usr/local/lib/python3.9/dist-packages (from aiohttp->datasets) (1.3.1)\n",
            "Requirement already satisfied: multidict<7.0,>=4.5 in /usr/local/lib/python3.9/dist-packages (from aiohttp->datasets) (6.0.4)\n",
            "Requirement already satisfied: attrs>=17.3.0 in /usr/local/lib/python3.9/dist-packages (from aiohttp->datasets) (22.2.0)\n",
            "Requirement already satisfied: async-timeout<5.0,>=4.0.0a3 in /usr/local/lib/python3.9/dist-packages (from aiohttp->datasets) (4.0.2)\n",
            "Requirement already satisfied: charset-normalizer<4.0,>=2.0 in /usr/local/lib/python3.9/dist-packages (from aiohttp->datasets) (2.0.12)\n",
            "Requirement already satisfied: filelock in /usr/local/lib/python3.9/dist-packages (from huggingface-hub<1.0.0,>=0.11.0->datasets) (3.11.0)\n",
            "Requirement already satisfied: typing-extensions>=3.7.4.3 in /usr/local/lib/python3.9/dist-packages (from huggingface-hub<1.0.0,>=0.11.0->datasets) (4.5.0)\n",
            "Requirement already satisfied: certifi>=2017.4.17 in /usr/local/lib/python3.9/dist-packages (from requests>=2.19.0->datasets) (2022.12.7)\n",
            "Requirement already satisfied: urllib3<1.27,>=1.21.1 in /usr/local/lib/python3.9/dist-packages (from requests>=2.19.0->datasets) (1.26.15)\n",
            "Requirement already satisfied: idna<4,>=2.5 in /usr/local/lib/python3.9/dist-packages (from requests>=2.19.0->datasets) (3.4)\n",
            "Requirement already satisfied: python-dateutil>=2.8.1 in /usr/local/lib/python3.9/dist-packages (from pandas->datasets) (2.8.2)\n",
            "Requirement already satisfied: pytz>=2020.1 in /usr/local/lib/python3.9/dist-packages (from pandas->datasets) (2022.7.1)\n",
            "Requirement already satisfied: six>=1.5 in /usr/local/lib/python3.9/dist-packages (from python-dateutil>=2.8.1->pandas->datasets) (1.16.0)\n"
          ]
        }
      ],
      "source": [
        "pip install datasets"
      ]
    },
    {
      "cell_type": "code",
      "execution_count": null,
      "metadata": {
        "colab": {
          "base_uri": "https://localhost:8080/"
        },
        "id": "XKbu2AsdVIAS",
        "outputId": "5ba188df-b824-4271-fc72-63e5c9ef9be4"
      },
      "outputs": [
        {
          "name": "stdout",
          "output_type": "stream",
          "text": [
            "Looking in indexes: https://pypi.org/simple, https://us-python.pkg.dev/colab-wheels/public/simple/\n",
            "Requirement already satisfied: transformers in /usr/local/lib/python3.9/dist-packages (4.28.1)\n",
            "Requirement already satisfied: packaging>=20.0 in /usr/local/lib/python3.9/dist-packages (from transformers) (23.0)\n",
            "Requirement already satisfied: tqdm>=4.27 in /usr/local/lib/python3.9/dist-packages (from transformers) (4.65.0)\n",
            "Requirement already satisfied: regex!=2019.12.17 in /usr/local/lib/python3.9/dist-packages (from transformers) (2022.10.31)\n",
            "Requirement already satisfied: pyyaml>=5.1 in /usr/local/lib/python3.9/dist-packages (from transformers) (6.0)\n",
            "Requirement already satisfied: huggingface-hub<1.0,>=0.11.0 in /usr/local/lib/python3.9/dist-packages (from transformers) (0.13.4)\n",
            "Requirement already satisfied: filelock in /usr/local/lib/python3.9/dist-packages (from transformers) (3.11.0)\n",
            "Requirement already satisfied: requests in /usr/local/lib/python3.9/dist-packages (from transformers) (2.27.1)\n",
            "Requirement already satisfied: tokenizers!=0.11.3,<0.14,>=0.11.1 in /usr/local/lib/python3.9/dist-packages (from transformers) (0.13.3)\n",
            "Requirement already satisfied: numpy>=1.17 in /usr/local/lib/python3.9/dist-packages (from transformers) (1.22.4)\n",
            "Requirement already satisfied: typing-extensions>=3.7.4.3 in /usr/local/lib/python3.9/dist-packages (from huggingface-hub<1.0,>=0.11.0->transformers) (4.5.0)\n",
            "Requirement already satisfied: certifi>=2017.4.17 in /usr/local/lib/python3.9/dist-packages (from requests->transformers) (2022.12.7)\n",
            "Requirement already satisfied: charset-normalizer~=2.0.0 in /usr/local/lib/python3.9/dist-packages (from requests->transformers) (2.0.12)\n",
            "Requirement already satisfied: urllib3<1.27,>=1.21.1 in /usr/local/lib/python3.9/dist-packages (from requests->transformers) (1.26.15)\n",
            "Requirement already satisfied: idna<4,>=2.5 in /usr/local/lib/python3.9/dist-packages (from requests->transformers) (3.4)\n"
          ]
        }
      ],
      "source": [
        "pip install transformers"
      ]
    },
    {
      "cell_type": "code",
      "execution_count": null,
      "metadata": {
        "colab": {
          "base_uri": "https://localhost:8080/"
        },
        "id": "oJF0rNmDxukL",
        "outputId": "5f31aaf5-d616-4efb-d8ce-77eeac8324da"
      },
      "outputs": [
        {
          "name": "stdout",
          "output_type": "stream",
          "text": [
            "Looking in indexes: https://pypi.org/simple, https://us-python.pkg.dev/colab-wheels/public/simple/\n",
            "Requirement already satisfied: rouge_score in /usr/local/lib/python3.9/dist-packages (0.1.2)\n",
            "Requirement already satisfied: numpy in /usr/local/lib/python3.9/dist-packages (from rouge_score) (1.22.4)\n",
            "Requirement already satisfied: absl-py in /usr/local/lib/python3.9/dist-packages (from rouge_score) (1.4.0)\n",
            "Requirement already satisfied: nltk in /usr/local/lib/python3.9/dist-packages (from rouge_score) (3.8.1)\n",
            "Requirement already satisfied: six>=1.14.0 in /usr/local/lib/python3.9/dist-packages (from rouge_score) (1.16.0)\n",
            "Requirement already satisfied: tqdm in /usr/local/lib/python3.9/dist-packages (from nltk->rouge_score) (4.65.0)\n",
            "Requirement already satisfied: regex>=2021.8.3 in /usr/local/lib/python3.9/dist-packages (from nltk->rouge_score) (2022.10.31)\n",
            "Requirement already satisfied: joblib in /usr/local/lib/python3.9/dist-packages (from nltk->rouge_score) (1.2.0)\n",
            "Requirement already satisfied: click in /usr/local/lib/python3.9/dist-packages (from nltk->rouge_score) (8.1.3)\n"
          ]
        }
      ],
      "source": [
        "pip install rouge_score"
      ]
    },
    {
      "cell_type": "code",
      "execution_count": null,
      "metadata": {
        "colab": {
          "base_uri": "https://localhost:8080/",
          "height": 388
        },
        "id": "E5ZGCSmE9URA",
        "outputId": "db720de9-744f-49d5-9c0f-61781d259cce"
      },
      "outputs": [
        {
          "name": "stdout",
          "output_type": "stream",
          "text": [
            "Token is valid.\n",
            "Your token has been saved in your configured git credential helpers (store).\n",
            "Your token has been saved to /root/.cache/huggingface/token\n",
            "Login successful\n"
          ]
        }
      ],
      "source": [
        "#provide huggingface login\n",
        "from huggingface_hub import notebook_login\n",
        "notebook_login()"
      ]
    },
    {
      "cell_type": "code",
      "execution_count": null,
      "metadata": {
        "id": "7kWjFqLCCF51"
      },
      "outputs": [],
      "source": [
        "#load libs\n",
        "from datasets import load_dataset,load_metric\n",
        "from transformers import AutoTokenizer\n",
        "from transformers import AutoModelForSeq2SeqLM, DataCollatorForSeq2Seq, Seq2SeqTrainingArguments, Seq2SeqTrainer\n",
        "import nltk\n",
        "import numpy as np"
      ]
    },
    {
      "cell_type": "code",
      "execution_count": null,
      "metadata": {
        "colab": {
          "base_uri": "https://localhost:8080/",
          "height": 86,
          "referenced_widgets": [
            "c7971d048e9345078b3e50a946c26a34",
            "8d1b45d089d040328b049f1aabc8bc9b",
            "81c282fac90f496583b14f8d7f98ab83",
            "98f920a536894312a8d290e484268f43",
            "a46fa4300d384793accf18807aed263a",
            "519d890cb1ec4b94a46a91f2f6bfce1f",
            "29089bd16bdd4380b10706a62f3872ab",
            "70f4de64b79140c39053fcd63b32b55d",
            "53036290b3af4830baa6fcf6f433df16",
            "b741e75ab3214c868a04a99fed84c57f",
            "4323de11445d4ddfb11303f8bc0dbf8f"
          ]
        },
        "id": "E7UvewS2PdTh",
        "outputId": "93de5801-46e9-4fd9-8d08-557637ebfa60"
      },
      "outputs": [
        {
          "name": "stderr",
          "output_type": "stream",
          "text": [
            "WARNING:datasets.builder:Found cached dataset multi_news (/root/.cache/huggingface/datasets/multi_news/default/1.0.0/2f1f69a2bedc8ad1c5d8ae5148e4755ee7095f465c1c01ae8f85454342065a72)\n"
          ]
        },
        {
          "data": {
            "application/vnd.jupyter.widget-view+json": {
              "model_id": "c7971d048e9345078b3e50a946c26a34",
              "version_major": 2,
              "version_minor": 0
            },
            "text/plain": [
              "  0%|          | 0/3 [00:00<?, ?it/s]"
            ]
          },
          "metadata": {},
          "output_type": "display_data"
        }
      ],
      "source": [
        "ds = load_dataset(\"multi_news\")"
      ]
    },
    {
      "cell_type": "code",
      "execution_count": null,
      "metadata": {
        "colab": {
          "base_uri": "https://localhost:8080/"
        },
        "id": "SC-YqB10wcKC",
        "outputId": "b0cc9735-2f1c-4b1e-ba06-2aef943aa4fa"
      },
      "outputs": [
        {
          "name": "stderr",
          "output_type": "stream",
          "text": [
            "<ipython-input-7-90a1ed71f25c>:2: FutureWarning: load_metric is deprecated and will be removed in the next major version of datasets. Use 'evaluate.load' instead, from the new library 🤗 Evaluate: https://huggingface.co/docs/evaluate\n",
            "  metric=load_metric(\"rouge\")\n"
          ]
        }
      ],
      "source": [
        "model_checkpoint=\"facebook/bart-large-cnn\"\n",
        "metric=load_metric(\"rouge\")"
      ]
    },
    {
      "cell_type": "code",
      "execution_count": null,
      "metadata": {
        "colab": {
          "base_uri": "https://localhost:8080/"
        },
        "id": "vcIkg42MxcH6",
        "outputId": "a5eda56b-ee83-4cbf-b33f-afeb60fe9fe6"
      },
      "outputs": [
        {
          "data": {
            "text/plain": [
              "{'document': 'National Archives \\n \\n Yes, it’s that time again, folks. It’s the first Friday of the month, when for one ever-so-brief moment the interests of Wall Street, Washington and Main Street are all aligned on one thing: Jobs. \\n \\n A fresh update on the U.S. employment situation for January hits the wires at 8:30 a.m. New York time offering one of the most important snapshots on how the economy fared during the previous month. Expectations are for 203,000 new jobs to be created, according to economists polled by Dow Jones Newswires, compared to 227,000 jobs added in February. The unemployment rate is expected to hold steady at 8.3%. \\n \\n Here at MarketBeat HQ, we’ll be offering color commentary before and after the data crosses the wires. Feel free to weigh-in yourself, via the comments section. And while you’re here, why don’t you sign up to follow us on Twitter. \\n \\n Enjoy the show. ||||| Employers pulled back sharply on hiring last month, a reminder that the U.S. economy may not be growing fast enough to sustain robust job growth. The unemployment rate dipped, but mostly because more Americans stopped looking for work. \\n \\n The Labor Department says the economy added 120,000 jobs in March, down from more than 200,000 in each of the previous three months. \\n \\n The unemployment rate fell to 8.2 percent, the lowest since January 2009. The rate dropped because fewer people searched for jobs. The official unemployment tally only includes those seeking work. \\n \\n The economy has added 858,000 jobs since December _ the best four months of hiring in two years. But Federal Reserve Chairman Ben Bernanke has cautioned that the current hiring pace is unlikely to continue without more consumer spending.',\n",
              " 'summary': '– The unemployment rate dropped to 8.2% last month, but the economy only added 120,000 jobs, when 203,000 new jobs had been predicted, according to today\\'s jobs report. Reaction on the Wall Street Journal\\'s MarketBeat Blog was swift: \"Woah!!! Bad number.\" The unemployment rate, however, is better news; it had been expected to hold steady at 8.3%. But the AP notes that the dip is mostly due to more Americans giving up on seeking employment.'}"
            ]
          },
          "execution_count": 21,
          "metadata": {},
          "output_type": "execute_result"
        }
      ],
      "source": [
        "ds['train'][0]"
      ]
    },
    {
      "cell_type": "markdown",
      "metadata": {
        "id": "u0y6MonKaPr2"
      },
      "source": [
        "## Preprocessing the raw data\n",
        "\n",
        "\n",
        "\n",
        "\n"
      ]
    },
    {
      "cell_type": "code",
      "execution_count": null,
      "metadata": {
        "id": "AAaBCEcmR1Cs"
      },
      "outputs": [],
      "source": [
        "tokenizer = AutoTokenizer.from_pretrained(model_checkpoint)"
      ]
    },
    {
      "cell_type": "code",
      "execution_count": null,
      "metadata": {
        "id": "6Bg0jqW1zpkE"
      },
      "outputs": [],
      "source": [
        "max_news_length=1024\n",
        "max_sum_length=128\n",
        "\n",
        "#tokenize news and summary\n",
        "def preprocess(dataset):\n",
        "    document=[doc for doc in dataset[\"document\"]]\n",
        "    model_inputs=tokenizer(document,max_length=max_news_length,truncation=True)\n",
        "\n",
        "    with tokenizer.as_target_tokenizer():\n",
        "        labels=tokenizer(dataset[\"summary\"],max_length=max_sum_length,truncation=True)\n",
        "    model_inputs[\"labels\"]=labels[\"input_ids\"]\n",
        "    return model_inputs\n",
        "    "
      ]
    },
    {
      "cell_type": "code",
      "execution_count": null,
      "metadata": {
        "colab": {
          "base_uri": "https://localhost:8080/"
        },
        "id": "tb3pLER61vPh",
        "outputId": "a7bfeb6a-050d-4222-8c3a-10b74f63fb0a"
      },
      "outputs": [
        {
          "name": "stderr",
          "output_type": "stream",
          "text": [
            "/usr/local/lib/python3.9/dist-packages/transformers/tokenization_utils_base.py:3596: UserWarning: `as_target_tokenizer` is deprecated and will be removed in v5 of Transformers. You can tokenize your labels by using the argument `text_target` of the regular `__call__` method (either in the same call as your input texts if you use the same keyword arguments, or in a separate call.\n",
            "  warnings.warn(\n"
          ]
        },
        {
          "data": {
            "text/plain": [
              "{'input_ids': [[0, 18285, 26844, 1437, 50118, 1437, 50118, 3216, 6, 24, 17, 27, 29, 14, 86, 456, 6, 5450, 4, 85, 17, 27, 29, 5, 78, 273, 9, 5, 353, 6, 77, 13, 65, 655, 12, 2527, 12, 428, 24062, 1151, 5, 3168, 9, 2298, 852, 6, 663, 8, 4326, 852, 32, 70, 14485, 15, 65, 631, 35, 13499, 4, 1437, 50118, 1437, 50118, 83, 2310, 2935, 15, 5, 121, 4, 104, 4, 4042, 1068, 13, 644, 2323, 5, 22893, 23, 290, 35, 541, 10, 4, 119, 4, 188, 469, 86, 1839, 65, 9, 5, 144, 505, 40617, 15, 141, 5, 866, 24779, 148, 5, 986, 353, 4, 12809, 1635, 32, 13, 23041, 6, 151, 92, 1315, 7, 28, 1412, 6, 309, 7, 9019, 13829, 30, 4614, 1454, 188, 4184, 7948, 6, 1118, 7, 30398, 6, 151, 1315, 355, 11, 902, 4, 20, 5755, 731, 16, 421, 7, 946, 5204, 23, 290, 4, 246, 2153, 1437, 50118, 1437, 50118, 1398, 23, 1018, 5522, 21956, 6, 52, 17, 27, 890, 28, 1839, 3195, 9765, 137, 8, 71, 5, 414, 20238, 5, 22893, 4, 22079, 481, 7, 9832, 12, 179, 2512, 6, 1241, 5, 1450, 2810, 4, 178, 150, 47, 17, 27, 241, 259, 6, 596, 218, 17, 27, 90, 47, 1203, 62, 7, 1407, 201, 15, 599, 4, 1437, 50118, 1437, 50118, 16013, 5, 311, 4, 45056, 49085, 15483, 23564, 268, 2468, 124, 8104, 15, 5947, 94, 353, 6, 10, 8306, 14, 5, 121, 4, 104, 4, 866, 189, 45, 28, 1197, 1769, 615, 7, 9844, 6295, 633, 434, 4, 20, 5755, 731, 13809, 6, 53, 2260, 142, 55, 1791, 2294, 546, 13, 173, 4, 1437, 50118, 1437, 50118, 20, 6338, 641, 161, 5, 866, 355, 5962, 6, 151, 1315, 11, 494, 6, 159, 31, 55, 87, 1878, 6, 151, 11, 349, 9, 5, 986, 130, 377, 4, 1437, 50118, 1437, 50118, 20, 5755, 731, 1064, 7, 290, 4, 176, 135, 6, 5, 3912, 187, 644, 2338, 4, 20, 731, 1882, 142, 4163, 82, 10593, 13, 1315, 4, 20, 781, 5755, 11154, 129, 1171, 167, 1818, 173, 4, 1437, 50118, 1437, 50118, 20, 866, 34, 355, 290, 4432, 6, 151, 1315, 187, 719, 18134, 5, 275, 237, 377, 9, 5947, 11, 80, 107, 4, 125, 1853, 3965, 3356, 1664, 6552, 23578, 34, 13335, 14, 5, 595, 5947, 2877, 16, 3752, 7, 535, 396, 55, 2267, 1408, 4, 2], [0, 14502, 11420, 1723, 36, 591, 43, 93, 96, 69, 78, 1194, 187, 5, 2762, 4968, 69, 20599, 1623, 6, 264, 13861, 9381, 161, 79, 40, 1032, 7, 489, 69, 458, 9, 5, 1287, 1422, 12190, 8, 708, 65, 183, 7, 7402, 807, 9381, 4, 1437, 50118, 1437, 50118, 36, 22473, 20878, 50, 4130, 7, 535, 7603, 3156, 1592, 1437, 50118, 1437, 50118, 4516, 11664, 36, 22473, 20878, 50, 4130, 7, 535, 7603, 3156, 1592, 1437, 50118, 1437, 50118, 1287, 1422, 12190, 1029, 12, 14527, 264, 13861, 9381, 6, 874, 6, 11966, 5, 12190, 310, 5, 4020, 412, 8314, 552, 19, 69, 1921, 6, 13891, 384, 108, 21489, 6, 11, 5, 78, 457, 9, 2436, 155, 9, 5, 2027, 2815, 734, 36, 17044, 977, 43, 1437, 50118, 1437, 50118, 264, 13861, 9381, 1834, 7, 4810, 19371, 6, 8, 3943, 491, 1278, 10, 765, 527, 19, 30336, 31, 5, 1607, 395, 4, 1437, 50118, 1437, 50118, 2762, 4589, 3086, 5344, 34, 4968, 807, 9381, 13, 442, 7159, 1450, 8, 2966, 2203, 7, 1370, 9381, 7, 1331, 5, 165, 4, 5344, 355, 14, 117, 2390, 56, 57, 156, 59, 5, 1079, 9, 9381, 18, 284, 4, 1437, 50118, 1437, 50118, 767, 7, 3943, 18, 527, 6, 264, 13861, 9381, 174, 19371, 35, 22, 100, 40, 1032, 14, 568, 72, 1437, 50118, 1437, 50118, 9381, 67, 26, 14, 79, 22, 21680, 13851, 113, 40, 7402, 69, 1623, 6, 8, 14, 79, 5844, 75, 648, 626, 98, 528, 7, 613, 19199, 4, 45056, 49085, 15483, 264, 13861, 9381, 26, 452, 14, 22, 21680, 13851, 6, 38, 524, 164, 7, 113, 7402, 69, 20599, 1623, 6, 807, 9381, 6, 8, 114, 5, 2762, 5741, 7, 1370, 69, 7, 1331, 69, 457, 9, 5, 1287, 1422, 12190, 6, 79, 74, 22, 24002, 113, 1032, 7, 489, 69, 1968, 11, 5, 165, 4, 1437, 50118, 1437, 50118, 22, 100, 40, 1032, 14, 568, 60, 79, 174, 3943, 491, 108, 4810, 19371, 452, 11, 41, 5451, 1194, 4, 22, 3972, 28, 5322, 19, 47, 6, 38, 437, 8020, 114, 10, 1141, 9, 65, 9, 5, 2203, 6, 8, 89, 18, 389, 2203, 6, 222, 402, 101, 14, 6, 26, 167, 6689, 31484, 6, 74, 51, 25403, 5, 1623, 116, 1793, 74, 51, 989, 5, 1623, 11, 1917, 1437, 50118, 1437, 50118, 9381, 355, 14, 5, 12190, 3468, 16, 69, 22, 10212, 1499, 113, 8, 22, 4308, 5073, 7, 127, 284, 72, 1437, 50118, 1437, 50118, 22, 100, 348, 57, 19, 5, 165, 13, 2357, 107, 6, 149, 5, 205, 498, 8, 5, 1099, 498, 60, 79, 355, 4, 1437, 50118, 1437, 50118, 1216, 1450, 283, 823, 80, 688, 71, 2762, 4589, 3086, 5344, 585, 10, 7370, 2020, 8, 10, 68, 176, 4, 245, 153, 2051, 13, 807, 9381, 15, 587, 1132, 6, 511, 7159, 1450, 31, 5, 1812, 12, 180, 12, 279, 6, 61, 58, 2037, 15, 7898, 8, 703, 7, 5, 433, 4, 1437, 50118, 1437, 50118, 1163, 35, 4810, 19371, 108, 23997, 21902, 590, 468, 4, 312, 1879, 5472, 1437, 50118, 1437, 50118, 8374, 20599, 31, 69, 1623, 6, 264, 13861, 9381, 26, 79, 74, 22, 11990, 7, 3264, 113, 3046, 8653, 5, 2762, 4507, 159, 7, 123, 6, 53, 14, 69, 1968, 11, 5, 165, 197, 28, 2559, 4, 1437, 50118, 1437, 50118, 22, 100, 21, 6649, 30, 99, 37, 26, 4, 178, 480, 157, 6, 38, 4443, 3046, 49, 568, 16, 480, 52, 33, 7, 697, 19, 24, 60, 79, 26, 4, 22, 1708, 38, 218, 75, 216, 596, 38, 197, 28, 14459, 13, 99, 39, 2163, 58, 72, 1437, 50118, 1437, 50118, 660, 2762, 1565, 26, 42, 1559, 14, 1267, 1492, 74, 45, 1157, 69, 7, 462, 946, 15, 7, 69, 458, 4, 1437, 50118, 1437, 50118, 22, 17245, 5, 2762, 5879, 6, 114, 10, 10568, 1945, 18, 773, 16, 18450, 30, 10, 155, 73, 306, 900, 6, 70, 97, 165, 2203, 108, 3168, 32, 6885, 18450, 25, 157, 60, 2762, 1565, 1483, 12554, 26, 4, 22, 243, 630, 75, 948, 549, 5, 2203, 32, 1330, 25, 16, 5, 403, 259, 4, 1216, 32, 5, 1492, 7, 61, 70, 2762, 2203, 1507, 7, 25, 10, 1881, 9, 15487, 49, 165, 72, 1437, 50118, 1437, 50118, 6542, 1506, 9381, 18, 2470, 6, 13891, 384, 108, 21489, 6, 11164, 5, 1267, 18, 2600, 9, 63, 7255, 4, 1437, 50118, 1437, 50118, 22, 170, 109, 45, 2854, 19, 5, 1267, 18, 1403, 12, 20017, 13794, 9, 63, 7255, 6, 63, 2502, 7, 264, 13861, 9381, 50, 63, 25295, 223, 209, 2216, 4215, 60, 384, 108, 21489, 26, 11, 10, 445, 703, 42, 1559, 11, 2851, 366, 282, 1090, 5, 2762, 4, 22, 170, 697, 11, 10, 1226, 9, 2074, 4, 886, 488, 8, 5, 315, 532, 5879, 20125, 143, 215, 13794, 72, 1437, 50118, 1437, 50118, 318, 5, 1267, 11703, 7, 1370, 807, 9381, 7, 1331, 39, 457, 9, 5, 165, 6, 264, 13861, 9381, 630, 75, 216, 99, 37, 40, 109, 6, 53, 5, 3302, 9, 123, 19116, 455, 4902, 7, 69, 16, 402, 79, 22, 14656, 657, 123, 7, 113, 1701, 4, 1437, 50118, 1437, 50118, 3283, 35, 2762, 35596, 12190, 23027, 807, 9381, 286, 3126, 1437, 50118, 1437, 50118, 22, 100, 2220, 75, 3373, 24, 19, 123, 50, 3244, 7, 123, 59, 24, 60, 79, 26, 4, 1437, 50118, 1437, 50118, 20, 1762, 9, 4358, 227, 16809, 28459, 8, 807, 9381, 669, 19371, 7, 864, 549, 79, 708, 7, 2870, 13, 7402, 4, 1437, 50118, 1437, 50118, 22, 2709, 5, 94, 291, 107, 6, 38, 348, 57, 1782, 6386, 13, 10, 7402, 60, 79, 26, 6, 11339, 4, 22, 1121, 754, 6, 38, 33, 259, 5579, 38, 95, 1658, 5579, 38, 21, 164, 7, 2870, 5, 5265, 4, 38, 1419, 5, 5265, 13, 10, 7402, 4, 178, 24, 376, 7, 818, 145, 1658, 4, 178, 172, 6, 127, 613, 11220, 8, 127, 1921, 26, 7, 162, 6, 128, 7199, 122, 9957, 1437, 50118, 1437, 50118, 9381, 355, 14, 79, 4265, 5, 1690, 9391, 9, 5, 7402, 17386, 31, 22, 24915, 7863, 72, 1437, 50118, 1437, 50118, 125, 79, 26, 22, 42280, 6, 38, 437, 164, 7, 2]], 'attention_mask': [[1, 1, 1, 1, 1, 1, 1, 1, 1, 1, 1, 1, 1, 1, 1, 1, 1, 1, 1, 1, 1, 1, 1, 1, 1, 1, 1, 1, 1, 1, 1, 1, 1, 1, 1, 1, 1, 1, 1, 1, 1, 1, 1, 1, 1, 1, 1, 1, 1, 1, 1, 1, 1, 1, 1, 1, 1, 1, 1, 1, 1, 1, 1, 1, 1, 1, 1, 1, 1, 1, 1, 1, 1, 1, 1, 1, 1, 1, 1, 1, 1, 1, 1, 1, 1, 1, 1, 1, 1, 1, 1, 1, 1, 1, 1, 1, 1, 1, 1, 1, 1, 1, 1, 1, 1, 1, 1, 1, 1, 1, 1, 1, 1, 1, 1, 1, 1, 1, 1, 1, 1, 1, 1, 1, 1, 1, 1, 1, 1, 1, 1, 1, 1, 1, 1, 1, 1, 1, 1, 1, 1, 1, 1, 1, 1, 1, 1, 1, 1, 1, 1, 1, 1, 1, 1, 1, 1, 1, 1, 1, 1, 1, 1, 1, 1, 1, 1, 1, 1, 1, 1, 1, 1, 1, 1, 1, 1, 1, 1, 1, 1, 1, 1, 1, 1, 1, 1, 1, 1, 1, 1, 1, 1, 1, 1, 1, 1, 1, 1, 1, 1, 1, 1, 1, 1, 1, 1, 1, 1, 1, 1, 1, 1, 1, 1, 1, 1, 1, 1, 1, 1, 1, 1, 1, 1, 1, 1, 1, 1, 1, 1, 1, 1, 1, 1, 1, 1, 1, 1, 1, 1, 1, 1, 1, 1, 1, 1, 1, 1, 1, 1, 1, 1, 1, 1, 1, 1, 1, 1, 1, 1, 1, 1, 1, 1, 1, 1, 1, 1, 1, 1, 1, 1, 1, 1, 1, 1, 1, 1, 1, 1, 1, 1, 1, 1, 1, 1, 1, 1, 1, 1, 1, 1, 1, 1, 1, 1, 1, 1, 1, 1, 1, 1, 1, 1, 1, 1, 1, 1, 1, 1, 1, 1, 1, 1, 1, 1, 1, 1, 1, 1, 1, 1, 1, 1, 1, 1, 1, 1, 1, 1, 1, 1, 1, 1, 1, 1, 1, 1, 1, 1, 1, 1, 1, 1, 1, 1, 1, 1, 1, 1, 1, 1, 1, 1, 1, 1, 1, 1, 1, 1, 1, 1, 1, 1, 1, 1, 1, 1, 1, 1, 1, 1, 1, 1, 1, 1, 1, 1, 1, 1, 1, 1, 1, 1, 1, 1, 1, 1, 1, 1, 1, 1, 1, 1, 1], [1, 1, 1, 1, 1, 1, 1, 1, 1, 1, 1, 1, 1, 1, 1, 1, 1, 1, 1, 1, 1, 1, 1, 1, 1, 1, 1, 1, 1, 1, 1, 1, 1, 1, 1, 1, 1, 1, 1, 1, 1, 1, 1, 1, 1, 1, 1, 1, 1, 1, 1, 1, 1, 1, 1, 1, 1, 1, 1, 1, 1, 1, 1, 1, 1, 1, 1, 1, 1, 1, 1, 1, 1, 1, 1, 1, 1, 1, 1, 1, 1, 1, 1, 1, 1, 1, 1, 1, 1, 1, 1, 1, 1, 1, 1, 1, 1, 1, 1, 1, 1, 1, 1, 1, 1, 1, 1, 1, 1, 1, 1, 1, 1, 1, 1, 1, 1, 1, 1, 1, 1, 1, 1, 1, 1, 1, 1, 1, 1, 1, 1, 1, 1, 1, 1, 1, 1, 1, 1, 1, 1, 1, 1, 1, 1, 1, 1, 1, 1, 1, 1, 1, 1, 1, 1, 1, 1, 1, 1, 1, 1, 1, 1, 1, 1, 1, 1, 1, 1, 1, 1, 1, 1, 1, 1, 1, 1, 1, 1, 1, 1, 1, 1, 1, 1, 1, 1, 1, 1, 1, 1, 1, 1, 1, 1, 1, 1, 1, 1, 1, 1, 1, 1, 1, 1, 1, 1, 1, 1, 1, 1, 1, 1, 1, 1, 1, 1, 1, 1, 1, 1, 1, 1, 1, 1, 1, 1, 1, 1, 1, 1, 1, 1, 1, 1, 1, 1, 1, 1, 1, 1, 1, 1, 1, 1, 1, 1, 1, 1, 1, 1, 1, 1, 1, 1, 1, 1, 1, 1, 1, 1, 1, 1, 1, 1, 1, 1, 1, 1, 1, 1, 1, 1, 1, 1, 1, 1, 1, 1, 1, 1, 1, 1, 1, 1, 1, 1, 1, 1, 1, 1, 1, 1, 1, 1, 1, 1, 1, 1, 1, 1, 1, 1, 1, 1, 1, 1, 1, 1, 1, 1, 1, 1, 1, 1, 1, 1, 1, 1, 1, 1, 1, 1, 1, 1, 1, 1, 1, 1, 1, 1, 1, 1, 1, 1, 1, 1, 1, 1, 1, 1, 1, 1, 1, 1, 1, 1, 1, 1, 1, 1, 1, 1, 1, 1, 1, 1, 1, 1, 1, 1, 1, 1, 1, 1, 1, 1, 1, 1, 1, 1, 1, 1, 1, 1, 1, 1, 1, 1, 1, 1, 1, 1, 1, 1, 1, 1, 1, 1, 1, 1, 1, 1, 1, 1, 1, 1, 1, 1, 1, 1, 1, 1, 1, 1, 1, 1, 1, 1, 1, 1, 1, 1, 1, 1, 1, 1, 1, 1, 1, 1, 1, 1, 1, 1, 1, 1, 1, 1, 1, 1, 1, 1, 1, 1, 1, 1, 1, 1, 1, 1, 1, 1, 1, 1, 1, 1, 1, 1, 1, 1, 1, 1, 1, 1, 1, 1, 1, 1, 1, 1, 1, 1, 1, 1, 1, 1, 1, 1, 1, 1, 1, 1, 1, 1, 1, 1, 1, 1, 1, 1, 1, 1, 1, 1, 1, 1, 1, 1, 1, 1, 1, 1, 1, 1, 1, 1, 1, 1, 1, 1, 1, 1, 1, 1, 1, 1, 1, 1, 1, 1, 1, 1, 1, 1, 1, 1, 1, 1, 1, 1, 1, 1, 1, 1, 1, 1, 1, 1, 1, 1, 1, 1, 1, 1, 1, 1, 1, 1, 1, 1, 1, 1, 1, 1, 1, 1, 1, 1, 1, 1, 1, 1, 1, 1, 1, 1, 1, 1, 1, 1, 1, 1, 1, 1, 1, 1, 1, 1, 1, 1, 1, 1, 1, 1, 1, 1, 1, 1, 1, 1, 1, 1, 1, 1, 1, 1, 1, 1, 1, 1, 1, 1, 1, 1, 1, 1, 1, 1, 1, 1, 1, 1, 1, 1, 1, 1, 1, 1, 1, 1, 1, 1, 1, 1, 1, 1, 1, 1, 1, 1, 1, 1, 1, 1, 1, 1, 1, 1, 1, 1, 1, 1, 1, 1, 1, 1, 1, 1, 1, 1, 1, 1, 1, 1, 1, 1, 1, 1, 1, 1, 1, 1, 1, 1, 1, 1, 1, 1, 1, 1, 1, 1, 1, 1, 1, 1, 1, 1, 1, 1, 1, 1, 1, 1, 1, 1, 1, 1, 1, 1, 1, 1, 1, 1, 1, 1, 1, 1, 1, 1, 1, 1, 1, 1, 1, 1, 1, 1, 1, 1, 1, 1, 1, 1, 1, 1, 1, 1, 1, 1, 1, 1, 1, 1, 1, 1, 1, 1, 1, 1, 1, 1, 1, 1, 1, 1, 1, 1, 1, 1, 1, 1, 1, 1, 1, 1, 1, 1, 1, 1, 1, 1, 1, 1, 1, 1, 1, 1, 1, 1, 1, 1, 1, 1, 1, 1, 1, 1, 1, 1, 1, 1, 1, 1, 1, 1, 1, 1, 1, 1, 1, 1, 1, 1, 1, 1, 1, 1, 1, 1, 1, 1, 1, 1, 1, 1, 1, 1, 1, 1, 1, 1, 1, 1, 1, 1, 1, 1, 1, 1, 1, 1, 1, 1, 1, 1, 1, 1, 1, 1, 1, 1, 1, 1, 1, 1, 1, 1, 1, 1, 1, 1, 1, 1, 1, 1, 1, 1, 1, 1, 1, 1, 1, 1, 1, 1, 1, 1, 1, 1, 1, 1, 1, 1, 1, 1, 1, 1, 1, 1, 1, 1, 1, 1, 1, 1, 1, 1, 1, 1, 1, 1, 1, 1, 1, 1, 1, 1, 1, 1, 1, 1, 1, 1, 1, 1, 1, 1, 1, 1, 1, 1, 1, 1, 1, 1, 1, 1, 1, 1, 1, 1, 1, 1, 1, 1, 1, 1, 1, 1, 1, 1, 1, 1, 1, 1, 1, 1, 1, 1, 1, 1, 1, 1, 1, 1, 1, 1, 1, 1, 1, 1, 1, 1, 1, 1, 1, 1, 1, 1, 1, 1, 1, 1, 1, 1, 1, 1, 1, 1, 1, 1, 1, 1, 1, 1, 1, 1, 1, 1, 1, 1, 1, 1, 1, 1, 1, 1, 1, 1, 1, 1, 1, 1, 1, 1, 1, 1, 1, 1, 1, 1, 1, 1, 1, 1, 1, 1, 1, 1, 1, 1, 1, 1, 1, 1, 1, 1, 1, 1, 1, 1, 1, 1, 1, 1, 1, 1, 1, 1, 1, 1, 1, 1, 1, 1, 1, 1, 1, 1, 1, 1, 1, 1, 1, 1, 1, 1, 1, 1, 1, 1, 1]], 'labels': [[0, 2383, 20, 5755, 731, 1882, 7, 290, 4, 176, 207, 94, 353, 6, 53, 5, 866, 129, 355, 5962, 6, 151, 1315, 6, 77, 23041, 6, 151, 92, 1315, 56, 57, 6126, 6, 309, 7, 452, 18, 1315, 266, 4, 39067, 15, 5, 2298, 852, 3642, 18, 1018, 5522, 21617, 21, 14975, 35, 22, 44055, 895, 16506, 5654, 346, 72, 20, 5755, 731, 6, 959, 6, 16, 357, 340, 131, 24, 56, 57, 421, 7, 946, 5204, 23, 290, 4, 246, 2153, 125, 5, 1480, 2775, 14, 5, 10645, 16, 2260, 528, 7, 55, 1791, 1311, 62, 15, 1818, 4042, 4, 2], [0, 2383, 264, 13861, 9381, 708, 22, 21680, 13851, 113, 7, 7402, 69, 20599, 1623, 807, 6, 79, 3026, 4810, 19371, 23, 3943, 491, 4, 287, 13, 69, 1968, 11, 5, 1287, 1422, 12190, 6, 79, 708, 7, 489, 24, 6, 5, 1480, 2775, 4, 9381, 161, 79, 74, 22, 24002, 113, 1032, 143, 2762, 568, 7, 1370, 69, 7, 1331, 5, 165, 4, 20, 165, 16, 69, 22, 4308, 5073, 113, 7, 69, 284, 6, 79, 161, 4, 22, 3972, 28, 5322, 19, 47, 6, 38, 437, 8020, 114, 10, 1141, 9, 65, 9, 5, 2203, 1555, 26, 167, 6689, 31484, 6, 74, 51, 25403, 5, 1623, 116, 1793, 74, 51, 989, 5, 1623, 11, 1917, 2]]}"
            ]
          },
          "execution_count": 24,
          "metadata": {},
          "output_type": "execute_result"
        }
      ],
      "source": [
        "preprocess(ds['train'][:2])"
      ]
    },
    {
      "cell_type": "code",
      "execution_count": null,
      "metadata": {
        "colab": {
          "base_uri": "https://localhost:8080/"
        },
        "id": "DvANw5GW2NK3",
        "outputId": "04046744-aad9-46d6-ef1f-70ade235a28e"
      },
      "outputs": [
        {
          "name": "stderr",
          "output_type": "stream",
          "text": [
            "WARNING:datasets.arrow_dataset:Loading cached processed dataset at /root/.cache/huggingface/datasets/multi_news/default/1.0.0/2f1f69a2bedc8ad1c5d8ae5148e4755ee7095f465c1c01ae8f85454342065a72/cache-f3e18efad219c6de.arrow\n",
            "WARNING:datasets.arrow_dataset:Loading cached processed dataset at /root/.cache/huggingface/datasets/multi_news/default/1.0.0/2f1f69a2bedc8ad1c5d8ae5148e4755ee7095f465c1c01ae8f85454342065a72/cache-2e338c0736dcffd1.arrow\n",
            "WARNING:datasets.arrow_dataset:Loading cached processed dataset at /root/.cache/huggingface/datasets/multi_news/default/1.0.0/2f1f69a2bedc8ad1c5d8ae5148e4755ee7095f465c1c01ae8f85454342065a72/cache-82046d08f921d9ab.arrow\n"
          ]
        }
      ],
      "source": [
        "ds_token = ds.map(preprocess, batched=True)"
      ]
    },
    {
      "cell_type": "code",
      "execution_count": null,
      "metadata": {
        "colab": {
          "base_uri": "https://localhost:8080/"
        },
        "id": "QHd4ezeU6Qhm",
        "outputId": "824a7a8b-ff99-4d27-bd35-b0b9153735b3"
      },
      "outputs": [
        {
          "data": {
            "text/plain": [
              "DatasetDict({\n",
              "    train: Dataset({\n",
              "        features: ['document', 'summary', 'input_ids', 'attention_mask', 'labels'],\n",
              "        num_rows: 44972\n",
              "    })\n",
              "    validation: Dataset({\n",
              "        features: ['document', 'summary', 'input_ids', 'attention_mask', 'labels'],\n",
              "        num_rows: 5622\n",
              "    })\n",
              "    test: Dataset({\n",
              "        features: ['document', 'summary', 'input_ids', 'attention_mask', 'labels'],\n",
              "        num_rows: 5622\n",
              "    })\n",
              "})"
            ]
          },
          "execution_count": 26,
          "metadata": {},
          "output_type": "execute_result"
        }
      ],
      "source": [
        "ds_token"
      ]
    },
    {
      "cell_type": "markdown",
      "metadata": {
        "id": "f0cPgx9P8FUC"
      },
      "source": [
        "## Training and fine tuning the facebook BART Model\n"
      ]
    },
    {
      "cell_type": "code",
      "execution_count": null,
      "metadata": {
        "id": "_hid2RV06oA4"
      },
      "outputs": [],
      "source": [
        "model = AutoModelForSeq2SeqLM.from_pretrained(model_checkpoint)"
      ]
    },
    {
      "cell_type": "code",
      "execution_count": null,
      "metadata": {
        "id": "m6zdaarW7mIs"
      },
      "outputs": [],
      "source": [
        "batch_size = 8\n",
        "args = Seq2SeqTrainingArguments(\n",
        "    f\"TLDR/fined-tuned-bart\",\n",
        "    evaluation_strategy = \"epoch\",\n",
        "    learning_rate=2e-5,\n",
        "    predict_with_generate=True,\n",
        "    fp16=True,\n",
        "    push_to_hub=True,\n",
        "    weight_decay=0.01,\n",
        "    save_total_limit=3,\n",
        "    num_train_epochs=5,\n",
        "    per_device_train_batch_size=batch_size,\n",
        "    per_device_eval_batch_size=batch_size\n",
        ")"
      ]
    },
    {
      "cell_type": "code",
      "execution_count": null,
      "metadata": {
        "id": "y550AvkB77zv"
      },
      "outputs": [],
      "source": [
        "collator = DataCollatorForSeq2Seq(tokenizer, model=model)"
      ]
    },
    {
      "cell_type": "code",
      "execution_count": null,
      "metadata": {
        "id": "5pJ3YtqL8Phs"
      },
      "outputs": [],
      "source": [
        "def metrics_eval(pred_eval):\n",
        "    predictions, labels = pred_eval\n",
        "    decoded_preds = tokenizer.batch_decode(predictions, skip_special_tokens=True)\n",
        "    # Replace -100 in the labels as we can't decode them.\n",
        "    labels = np.where(labels != -100, labels, tokenizer.pad_token_id)\n",
        "    decoded_labels = tokenizer.batch_decode(labels, skip_special_tokens=True)\n",
        "    \n",
        "    # Rouge expects a newline after each sentence\n",
        "    decoded_preds = [\"\\n\".join(nltk.sent_tokenize(pred.strip())) for pred in decoded_preds]\n",
        "    decoded_labels = [\"\\n\".join(nltk.sent_tokenize(label.strip())) for label in decoded_labels]\n",
        "    \n",
        "    result = metric.compute(predictions=decoded_preds, references=decoded_labels, use_stemmer=True)\n",
        "    # Extract a few results\n",
        "    result = {key: value.mid.fmeasure * 100 for key, value in result.items()}\n",
        "    \n",
        "    # Add mean generated length\n",
        "    prediction_lens = [np.count_nonzero(pred != tokenizer.pad_token_id) for pred in predictions]\n",
        "    result[\"gen_len\"] = np.mean(prediction_lens)\n",
        "    \n",
        "    return {k: round(v, 4) for k, v in result.items()}"
      ]
    },
    {
      "cell_type": "code",
      "execution_count": null,
      "metadata": {
        "colab": {
          "base_uri": "https://localhost:8080/"
        },
        "id": "vIeZLgoa8WpG",
        "outputId": "40b37f6d-402b-48e0-94dd-0e5e31c1c463"
      },
      "outputs": [
        {
          "name": "stderr",
          "output_type": "stream",
          "text": [
            "/content/TLDR/fined-tuned-bart is already a clone of https://huggingface.co/ppiiesle3y/fined-tuned-bart. Make sure you pull the latest changes with `repo.git_pull()`.\n",
            "WARNING:huggingface_hub.repository:/content/TLDR/fined-tuned-bart is already a clone of https://huggingface.co/ppiiesle3y/fined-tuned-bart. Make sure you pull the latest changes with `repo.git_pull()`.\n"
          ]
        }
      ],
      "source": [
        "trainer = Seq2SeqTrainer(\n",
        "    model,\n",
        "    args,\n",
        "    train_dataset=ds_token[\"train\"],\n",
        "    eval_dataset=ds_token[\"validation\"],\n",
        "    tokenizer=tokenizer,\n",
        "    data_collator=collator,\n",
        "    compute_metrics=metrics_eval\n",
        ")"
      ]
    },
    {
      "cell_type": "code",
      "execution_count": null,
      "metadata": {
        "id": "GekHlFVCgjQh"
      },
      "outputs": [],
      "source": [
        "import torch\n",
        "torch.cuda.empty_cache()"
      ]
    },
    {
      "cell_type": "code",
      "execution_count": null,
      "metadata": {
        "colab": {
          "base_uri": "https://localhost:8080/"
        },
        "id": "wbAAM38mzxCm",
        "outputId": "e5b34dd1-e263-4fa8-cd7c-12636f3b7e3f"
      },
      "outputs": [
        {
          "name": "stderr",
          "output_type": "stream",
          "text": [
            "[nltk_data] Downloading package punkt to /root/nltk_data...\n",
            "[nltk_data]   Package punkt is already up-to-date!\n"
          ]
        },
        {
          "data": {
            "text/plain": [
              "True"
            ]
          },
          "execution_count": 33,
          "metadata": {},
          "output_type": "execute_result"
        }
      ],
      "source": [
        "import nltk\n",
        "nltk.download('punkt')\n",
        "  "
      ]
    },
    {
      "cell_type": "code",
      "execution_count": null,
      "metadata": {
        "colab": {
          "background_save": true,
          "base_uri": "https://localhost:8080/",
          "height": 177
        },
        "id": "viVhA1YTZodB",
        "outputId": "1e3e2c59-0b17-452d-f38d-d24c09e20794"
      },
      "outputs": [
        {
          "name": "stderr",
          "output_type": "stream",
          "text": [
            "/usr/local/lib/python3.9/dist-packages/transformers/optimization.py:391: FutureWarning: This implementation of AdamW is deprecated and will be removed in a future version. Use the PyTorch implementation torch.optim.AdamW instead, or set `no_deprecation_warning=True` to disable this warning\n",
            "  warnings.warn(\n",
            "You're using a BartTokenizerFast tokenizer. Please note that with a fast tokenizer, using the `__call__` method is faster than using a method to encode the text followed by a call to the `pad` method to get a padded encoding.\n"
          ]
        },
        {
          "data": {
            "text/html": [
              "\n",
              "    <div>\n",
              "      \n",
              "      <progress value='28110' max='28110' style='width:300px; height:20px; vertical-align: middle;'></progress>\n",
              "      [28110/28110 6:24:28, Epoch 5/5]\n",
              "    </div>\n",
              "    <table border=\"1\" class=\"dataframe\">\n",
              "  <thead>\n",
              " <tr style=\"text-align: left;\">\n",
              "      <th>Epoch</th>\n",
              "      <th>Training Loss</th>\n",
              "      <th>Validation Loss</th>\n",
              "      <th>Rouge1</th>\n",
              "      <th>Rouge2</th>\n",
              "      <th>Rougel</th>\n",
              "      <th>Rougelsum</th>\n",
              "      <th>Gen Len</th>\n",
              "    </tr>\n",
              "  </thead>\n",
              "  <tbody>\n",
              "    <tr>\n",
              "      <td>1</td>\n",
              "      <td>2.046600</td>\n",
              "      <td>2.014668</td>\n",
              "      <td>43.548500</td>\n",
              "      <td>16.595400</td>\n",
              "      <td>24.765800</td>\n",
              "      <td>37.600400</td>\n",
              "      <td>129.047800</td>\n",
              "    </tr>\n",
              "    <tr>\n",
              "      <td>2</td>\n",
              "      <td>1.837500</td>\n",
              "      <td>2.014337</td>\n",
              "      <td>43.724000</td>\n",
              "      <td>16.568400</td>\n",
              "      <td>24.771200</td>\n",
              "      <td>37.713200</td>\n",
              "      <td>128.982000</td>\n",
              "    </tr>\n",
              "    <tr>\n",
              "      <td>3</td>\n",
              "      <td>1.673300</td>\n",
              "      <td>2.006630</td>\n",
              "      <td>43.706500</td>\n",
              "      <td>16.553300</td>\n",
              "      <td>24.758800</td>\n",
              "      <td>37.758600</td>\n",
              "      <td>129.137900</td>\n",
              "    </tr>\n",
              "    <tr>\n",
              "      <td>4</td>\n",
              "      <td>1.554900</td>\n",
              "      <td>2.039723</td>\n",
              "      <td>44.047000</td>\n",
              "      <td>16.741700</td>\n",
              "      <td>24.899100</td>\n",
              "      <td>38.048400</td>\n",
              "      <td>129.115100</td>\n",
              "    </tr>\n",
              "    <tr>\n",
              "      <td>5</td>\n",
              "      <td>1.484700</td>\n",
              "      <td>2.068926</td>\n",
              "      <td>43.980700</td>\n",
              "      <td>16.664100</td>\n",
              "      <td>24.872000</td>\n",
              "      <td>37.857400</td>\n",
              "      <td>129.022800</td>\n",
              "    </tr>\n",
              "  </tbody>\n",
              "</table><p>"
            ],
            "text/plain": [
              "<IPython.core.display.HTML object>"
            ]
          },
          "metadata": {},
          "output_type": "display_data"
        },
        {
          "data": {
            "text/plain": [
              "TrainOutput(global_step=28110, training_loss=1.7308158252977976, metrics={'train_runtime': 23069.7942, 'train_samples_per_second': 9.747, 'train_steps_per_second': 1.218, 'total_flos': 4.872951408309043e+17, 'train_loss': 1.7308158252977976, 'epoch': 5.0})"
            ]
          },
          "execution_count": 34,
          "metadata": {},
          "output_type": "execute_result"
        }
      ],
      "source": [
        "trainer.train()"
      ]
    }
  ],
  "metadata": {
    "accelerator": "GPU",
    "colab": {
      "machine_shape": "hm",
      "provenance": [],
      "authorship_tag": "ABX9TyM61C+Y0EEFMuUG25+97eqY",
      "include_colab_link": true
    },
    "gpuClass": "premium",
    "kernelspec": {
      "display_name": "Python 3",
      "name": "python3"
    },
    "language_info": {
      "name": "python"
    },
    "widgets": {
      "application/vnd.jupyter.widget-state+json": {
        "29089bd16bdd4380b10706a62f3872ab": {
          "model_module": "@jupyter-widgets/controls",
          "model_module_version": "1.5.0",
          "model_name": "DescriptionStyleModel",
          "state": {
            "_model_module": "@jupyter-widgets/controls",
            "_model_module_version": "1.5.0",
            "_model_name": "DescriptionStyleModel",
            "_view_count": null,
            "_view_module": "@jupyter-widgets/base",
            "_view_module_version": "1.2.0",
            "_view_name": "StyleView",
            "description_width": ""
          }
        },
        "4323de11445d4ddfb11303f8bc0dbf8f": {
          "model_module": "@jupyter-widgets/controls",
          "model_module_version": "1.5.0",
          "model_name": "DescriptionStyleModel",
          "state": {
            "_model_module": "@jupyter-widgets/controls",
            "_model_module_version": "1.5.0",
            "_model_name": "DescriptionStyleModel",
            "_view_count": null,
            "_view_module": "@jupyter-widgets/base",
            "_view_module_version": "1.2.0",
            "_view_name": "StyleView",
            "description_width": ""
          }
        },
        "519d890cb1ec4b94a46a91f2f6bfce1f": {
          "model_module": "@jupyter-widgets/base",
          "model_module_version": "1.2.0",
          "model_name": "LayoutModel",
          "state": {
            "_model_module": "@jupyter-widgets/base",
            "_model_module_version": "1.2.0",
            "_model_name": "LayoutModel",
            "_view_count": null,
            "_view_module": "@jupyter-widgets/base",
            "_view_module_version": "1.2.0",
            "_view_name": "LayoutView",
            "align_content": null,
            "align_items": null,
            "align_self": null,
            "border": null,
            "bottom": null,
            "display": null,
            "flex": null,
            "flex_flow": null,
            "grid_area": null,
            "grid_auto_columns": null,
            "grid_auto_flow": null,
            "grid_auto_rows": null,
            "grid_column": null,
            "grid_gap": null,
            "grid_row": null,
            "grid_template_areas": null,
            "grid_template_columns": null,
            "grid_template_rows": null,
            "height": null,
            "justify_content": null,
            "justify_items": null,
            "left": null,
            "margin": null,
            "max_height": null,
            "max_width": null,
            "min_height": null,
            "min_width": null,
            "object_fit": null,
            "object_position": null,
            "order": null,
            "overflow": null,
            "overflow_x": null,
            "overflow_y": null,
            "padding": null,
            "right": null,
            "top": null,
            "visibility": null,
            "width": null
          }
        },
        "53036290b3af4830baa6fcf6f433df16": {
          "model_module": "@jupyter-widgets/controls",
          "model_module_version": "1.5.0",
          "model_name": "ProgressStyleModel",
          "state": {
            "_model_module": "@jupyter-widgets/controls",
            "_model_module_version": "1.5.0",
            "_model_name": "ProgressStyleModel",
            "_view_count": null,
            "_view_module": "@jupyter-widgets/base",
            "_view_module_version": "1.2.0",
            "_view_name": "StyleView",
            "bar_color": null,
            "description_width": ""
          }
        },
        "70f4de64b79140c39053fcd63b32b55d": {
          "model_module": "@jupyter-widgets/base",
          "model_module_version": "1.2.0",
          "model_name": "LayoutModel",
          "state": {
            "_model_module": "@jupyter-widgets/base",
            "_model_module_version": "1.2.0",
            "_model_name": "LayoutModel",
            "_view_count": null,
            "_view_module": "@jupyter-widgets/base",
            "_view_module_version": "1.2.0",
            "_view_name": "LayoutView",
            "align_content": null,
            "align_items": null,
            "align_self": null,
            "border": null,
            "bottom": null,
            "display": null,
            "flex": null,
            "flex_flow": null,
            "grid_area": null,
            "grid_auto_columns": null,
            "grid_auto_flow": null,
            "grid_auto_rows": null,
            "grid_column": null,
            "grid_gap": null,
            "grid_row": null,
            "grid_template_areas": null,
            "grid_template_columns": null,
            "grid_template_rows": null,
            "height": null,
            "justify_content": null,
            "justify_items": null,
            "left": null,
            "margin": null,
            "max_height": null,
            "max_width": null,
            "min_height": null,
            "min_width": null,
            "object_fit": null,
            "object_position": null,
            "order": null,
            "overflow": null,
            "overflow_x": null,
            "overflow_y": null,
            "padding": null,
            "right": null,
            "top": null,
            "visibility": null,
            "width": null
          }
        },
        "81c282fac90f496583b14f8d7f98ab83": {
          "model_module": "@jupyter-widgets/controls",
          "model_module_version": "1.5.0",
          "model_name": "FloatProgressModel",
          "state": {
            "_dom_classes": [],
            "_model_module": "@jupyter-widgets/controls",
            "_model_module_version": "1.5.0",
            "_model_name": "FloatProgressModel",
            "_view_count": null,
            "_view_module": "@jupyter-widgets/controls",
            "_view_module_version": "1.5.0",
            "_view_name": "ProgressView",
            "bar_style": "success",
            "description": "",
            "description_tooltip": null,
            "layout": "IPY_MODEL_70f4de64b79140c39053fcd63b32b55d",
            "max": 3,
            "min": 0,
            "orientation": "horizontal",
            "style": "IPY_MODEL_53036290b3af4830baa6fcf6f433df16",
            "value": 3
          }
        },
        "8d1b45d089d040328b049f1aabc8bc9b": {
          "model_module": "@jupyter-widgets/controls",
          "model_module_version": "1.5.0",
          "model_name": "HTMLModel",
          "state": {
            "_dom_classes": [],
            "_model_module": "@jupyter-widgets/controls",
            "_model_module_version": "1.5.0",
            "_model_name": "HTMLModel",
            "_view_count": null,
            "_view_module": "@jupyter-widgets/controls",
            "_view_module_version": "1.5.0",
            "_view_name": "HTMLView",
            "description": "",
            "description_tooltip": null,
            "layout": "IPY_MODEL_519d890cb1ec4b94a46a91f2f6bfce1f",
            "placeholder": "​",
            "style": "IPY_MODEL_29089bd16bdd4380b10706a62f3872ab",
            "value": "100%"
          }
        },
        "98f920a536894312a8d290e484268f43": {
          "model_module": "@jupyter-widgets/controls",
          "model_module_version": "1.5.0",
          "model_name": "HTMLModel",
          "state": {
            "_dom_classes": [],
            "_model_module": "@jupyter-widgets/controls",
            "_model_module_version": "1.5.0",
            "_model_name": "HTMLModel",
            "_view_count": null,
            "_view_module": "@jupyter-widgets/controls",
            "_view_module_version": "1.5.0",
            "_view_name": "HTMLView",
            "description": "",
            "description_tooltip": null,
            "layout": "IPY_MODEL_b741e75ab3214c868a04a99fed84c57f",
            "placeholder": "​",
            "style": "IPY_MODEL_4323de11445d4ddfb11303f8bc0dbf8f",
            "value": " 3/3 [00:00&lt;00:00, 105.46it/s]"
          }
        },
        "a46fa4300d384793accf18807aed263a": {
          "model_module": "@jupyter-widgets/base",
          "model_module_version": "1.2.0",
          "model_name": "LayoutModel",
          "state": {
            "_model_module": "@jupyter-widgets/base",
            "_model_module_version": "1.2.0",
            "_model_name": "LayoutModel",
            "_view_count": null,
            "_view_module": "@jupyter-widgets/base",
            "_view_module_version": "1.2.0",
            "_view_name": "LayoutView",
            "align_content": null,
            "align_items": null,
            "align_self": null,
            "border": null,
            "bottom": null,
            "display": null,
            "flex": null,
            "flex_flow": null,
            "grid_area": null,
            "grid_auto_columns": null,
            "grid_auto_flow": null,
            "grid_auto_rows": null,
            "grid_column": null,
            "grid_gap": null,
            "grid_row": null,
            "grid_template_areas": null,
            "grid_template_columns": null,
            "grid_template_rows": null,
            "height": null,
            "justify_content": null,
            "justify_items": null,
            "left": null,
            "margin": null,
            "max_height": null,
            "max_width": null,
            "min_height": null,
            "min_width": null,
            "object_fit": null,
            "object_position": null,
            "order": null,
            "overflow": null,
            "overflow_x": null,
            "overflow_y": null,
            "padding": null,
            "right": null,
            "top": null,
            "visibility": null,
            "width": null
          }
        },
        "b741e75ab3214c868a04a99fed84c57f": {
          "model_module": "@jupyter-widgets/base",
          "model_module_version": "1.2.0",
          "model_name": "LayoutModel",
          "state": {
            "_model_module": "@jupyter-widgets/base",
            "_model_module_version": "1.2.0",
            "_model_name": "LayoutModel",
            "_view_count": null,
            "_view_module": "@jupyter-widgets/base",
            "_view_module_version": "1.2.0",
            "_view_name": "LayoutView",
            "align_content": null,
            "align_items": null,
            "align_self": null,
            "border": null,
            "bottom": null,
            "display": null,
            "flex": null,
            "flex_flow": null,
            "grid_area": null,
            "grid_auto_columns": null,
            "grid_auto_flow": null,
            "grid_auto_rows": null,
            "grid_column": null,
            "grid_gap": null,
            "grid_row": null,
            "grid_template_areas": null,
            "grid_template_columns": null,
            "grid_template_rows": null,
            "height": null,
            "justify_content": null,
            "justify_items": null,
            "left": null,
            "margin": null,
            "max_height": null,
            "max_width": null,
            "min_height": null,
            "min_width": null,
            "object_fit": null,
            "object_position": null,
            "order": null,
            "overflow": null,
            "overflow_x": null,
            "overflow_y": null,
            "padding": null,
            "right": null,
            "top": null,
            "visibility": null,
            "width": null
          }
        },
        "c7971d048e9345078b3e50a946c26a34": {
          "model_module": "@jupyter-widgets/controls",
          "model_module_version": "1.5.0",
          "model_name": "HBoxModel",
          "state": {
            "_dom_classes": [],
            "_model_module": "@jupyter-widgets/controls",
            "_model_module_version": "1.5.0",
            "_model_name": "HBoxModel",
            "_view_count": null,
            "_view_module": "@jupyter-widgets/controls",
            "_view_module_version": "1.5.0",
            "_view_name": "HBoxView",
            "box_style": "",
            "children": [
              "IPY_MODEL_8d1b45d089d040328b049f1aabc8bc9b",
              "IPY_MODEL_81c282fac90f496583b14f8d7f98ab83",
              "IPY_MODEL_98f920a536894312a8d290e484268f43"
            ],
            "layout": "IPY_MODEL_a46fa4300d384793accf18807aed263a"
          }
        }
      }
    }
  },
  "nbformat": 4,
  "nbformat_minor": 0
}